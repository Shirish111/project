{
 "cells": [
  {
   "cell_type": "code",
   "execution_count": 4,
   "metadata": {},
   "outputs": [],
   "source": [
    "import nltk\n",
    "from nltk import tree2conlltags"
   ]
  },
  {
   "cell_type": "markdown",
   "metadata": {},
   "source": [
    "## Splitting para into sentences and pos tagging"
   ]
  },
  {
   "cell_type": "code",
   "execution_count": 5,
   "metadata": {},
   "outputs": [],
   "source": [
    "#fname = \"/home/shirish/BTECHSEM2/project/books/annotated_books/new_buffet_en.txt\"\n",
    "#f = open(fname, \"r\")\n",
    "#sentences = nltk.sent_tokenize(f.read().encode('utf8'))\n",
    "sentences = nltk.sent_tokenize(\"\"\"As a child of the Great Depression, young Warren learned the value of money.\n",
    "In 1932, when the Depression hit Warren's hometown of Omaha, Nebraska, his father lost his job as a securities salesman for a local bank. But his dad was resourceful and soon began his own company, selling safe and reliable stocks and bonds.\n",
    "Earnings were meager. Indeed, they could afford so little food that Warren's mother would often give her portion to Howard so that he would have a decent meal.\n",
    "These difficult times left a lasting impression on Warren Buffett, and fueled his desire for the kind of security and stability that money can buy.\"\"\")\n",
    "#taggedSents = [(nltk.pos_tag(nltk.word_tokenize(i))) for i in sentences]\n",
    "taggedSents = [nltk.pos_tag(nltk.word_tokenize(i)) for i in sentences]"
   ]
  },
  {
   "cell_type": "code",
   "execution_count": 6,
   "metadata": {},
   "outputs": [
    {
     "data": {
      "text/plain": [
       "[('In', 'IN'),\n",
       " ('1932', 'CD'),\n",
       " (',', ','),\n",
       " ('when', 'WRB'),\n",
       " ('the', 'DT'),\n",
       " ('Depression', 'NNP'),\n",
       " ('hit', 'VBD'),\n",
       " ('Warren', 'NNP'),\n",
       " (\"'s\", 'POS'),\n",
       " ('hometown', 'NN'),\n",
       " ('of', 'IN'),\n",
       " ('Omaha', 'NNP'),\n",
       " (',', ','),\n",
       " ('Nebraska', 'NNP'),\n",
       " (',', ','),\n",
       " ('his', 'PRP$'),\n",
       " ('father', 'NN'),\n",
       " ('lost', 'VBD'),\n",
       " ('his', 'PRP$'),\n",
       " ('job', 'NN'),\n",
       " ('as', 'IN'),\n",
       " ('a', 'DT'),\n",
       " ('securities', 'NNS'),\n",
       " ('salesman', 'NN'),\n",
       " ('for', 'IN'),\n",
       " ('a', 'DT'),\n",
       " ('local', 'JJ'),\n",
       " ('bank', 'NN'),\n",
       " ('.', '.')]"
      ]
     },
     "execution_count": 6,
     "metadata": {},
     "output_type": "execute_result"
    }
   ],
   "source": [
    "taggedSents[1]"
   ]
  },
  {
   "cell_type": "markdown",
   "metadata": {},
   "source": [
    "## Creating a list of IOB tagged sentences after NER chunking"
   ]
  },
  {
   "cell_type": "code",
   "execution_count": 7,
   "metadata": {},
   "outputs": [],
   "source": [
    "l = []\n",
    "for i in taggedSents:\n",
    "    l.append(tree2conlltags(nltk.ne_chunk(i)))"
   ]
  },
  {
   "cell_type": "markdown",
   "metadata": {},
   "source": [
    "## Creating a featureset as pandas Dataframe using Subject and Verb as columns\n",
    "* Subject \n",
    "> Based on Noun, Pronoun, PERSON(entity)\n",
    "* Main Verb\n",
    "> Based on verbs not in the stopword list"
   ]
  },
  {
   "cell_type": "code",
   "execution_count": 8,
   "metadata": {},
   "outputs": [
    {
     "data": {
      "text/plain": [
       "[('As', 'IN', u'O'),\n",
       " ('a', 'DT', u'O'),\n",
       " ('child', 'NN', u'O'),\n",
       " ('of', 'IN', u'O'),\n",
       " ('the', 'DT', u'O'),\n",
       " ('Great', 'NNP', u'B-ORGANIZATION'),\n",
       " ('Depression', 'NNP', u'I-ORGANIZATION'),\n",
       " (',', ',', u'O'),\n",
       " ('young', 'JJ', u'O'),\n",
       " ('Warren', 'NNP', u'B-PERSON'),\n",
       " ('learned', 'VBD', u'O'),\n",
       " ('the', 'DT', u'O'),\n",
       " ('value', 'NN', u'O'),\n",
       " ('of', 'IN', u'O'),\n",
       " ('money', 'NN', u'O'),\n",
       " ('.', '.', u'O')]"
      ]
     },
     "execution_count": 8,
     "metadata": {},
     "output_type": "execute_result"
    }
   ],
   "source": [
    "l[0]"
   ]
  },
  {
   "cell_type": "code",
   "execution_count": 9,
   "metadata": {},
   "outputs": [
    {
     "name": "stdout",
     "output_type": "stream",
     "text": [
      "('As', 'IN', u'O')\n",
      "('a', 'DT', u'O')\n",
      "('child', 'NN', u'O')\n",
      "('of', 'IN', u'O')\n",
      "('the', 'DT', u'O')\n",
      "('Great', 'NNP', u'B-ORGANIZATION')\n",
      "('Depression', 'NNP', u'I-ORGANIZATION')\n",
      "(',', ',', u'O')\n",
      "('young', 'JJ', u'O')\n",
      "('Warren', 'NNP', u'B-PERSON')\n",
      "('learned', 'VBD', u'O')\n",
      "('the', 'DT', u'O')\n",
      "('value', 'NN', u'O')\n",
      "('of', 'IN', u'O')\n",
      "('money', 'NN', u'O')\n",
      "('.', '.', u'O')\n",
      "('In', 'IN', u'O')\n",
      "('1932', 'CD', u'O')\n",
      "(',', ',', u'O')\n",
      "('when', 'WRB', u'O')\n",
      "('the', 'DT', u'O')\n",
      "('Depression', 'NNP', u'B-ORGANIZATION')\n",
      "('hit', 'VBD', u'O')\n",
      "('Warren', 'NNP', u'B-PERSON')\n",
      "(\"'s\", 'POS', u'O')\n",
      "('hometown', 'NN', u'O')\n",
      "('of', 'IN', u'O')\n",
      "('Omaha', 'NNP', u'B-GPE')\n",
      "(',', ',', u'O')\n",
      "('Nebraska', 'NNP', u'B-GPE')\n",
      "(',', ',', u'O')\n",
      "('his', 'PRP$', u'O')\n",
      "('father', 'NN', u'O')\n",
      "('lost', 'VBD', u'O')\n",
      "('his', 'PRP$', u'O')\n",
      "('job', 'NN', u'O')\n",
      "('as', 'IN', u'O')\n",
      "('a', 'DT', u'O')\n",
      "('securities', 'NNS', u'O')\n",
      "('salesman', 'NN', u'O')\n",
      "('for', 'IN', u'O')\n",
      "('a', 'DT', u'O')\n",
      "('local', 'JJ', u'O')\n",
      "('bank', 'NN', u'O')\n",
      "('.', '.', u'O')\n",
      "('But', 'CC', u'O')\n",
      "('his', 'PRP$', u'O')\n",
      "('dad', 'NN', u'O')\n",
      "('was', 'VBD', u'O')\n",
      "('resourceful', 'JJ', u'O')\n",
      "('and', 'CC', u'O')\n",
      "('soon', 'RB', u'O')\n",
      "('began', 'VBD', u'O')\n",
      "('his', 'PRP$', u'O')\n",
      "('own', 'JJ', u'O')\n",
      "('company', 'NN', u'O')\n",
      "(',', ',', u'O')\n",
      "('selling', 'VBG', u'O')\n",
      "('safe', 'JJ', u'O')\n",
      "('and', 'CC', u'O')\n",
      "('reliable', 'JJ', u'O')\n",
      "('stocks', 'NNS', u'O')\n",
      "('and', 'CC', u'O')\n",
      "('bonds', 'NNS', u'O')\n",
      "('.', '.', u'O')\n",
      "('Earnings', 'NNS', u'O')\n",
      "('were', 'VBD', u'O')\n",
      "('meager', 'JJR', u'O')\n",
      "('.', '.', u'O')\n",
      "('Indeed', 'RB', u'O')\n",
      "(',', ',', u'O')\n",
      "('they', 'PRP', u'O')\n",
      "('could', 'MD', u'O')\n",
      "('afford', 'VB', u'O')\n",
      "('so', 'RB', u'O')\n",
      "('little', 'JJ', u'O')\n",
      "('food', 'NN', u'O')\n",
      "('that', 'IN', u'O')\n",
      "('Warren', 'NNP', u'B-PERSON')\n",
      "(\"'s\", 'POS', u'O')\n",
      "('mother', 'NN', u'O')\n",
      "('would', 'MD', u'O')\n",
      "('often', 'RB', u'O')\n",
      "('give', 'VB', u'O')\n",
      "('her', 'PRP$', u'O')\n",
      "('portion', 'NN', u'O')\n",
      "('to', 'TO', u'O')\n",
      "('Howard', 'NNP', u'B-PERSON')\n",
      "('so', 'RB', u'O')\n",
      "('that', 'IN', u'O')\n",
      "('he', 'PRP', u'O')\n",
      "('would', 'MD', u'O')\n",
      "('have', 'VB', u'O')\n",
      "('a', 'DT', u'O')\n",
      "('decent', 'JJ', u'O')\n",
      "('meal', 'NN', u'O')\n",
      "('.', '.', u'O')\n",
      "('These', 'DT', u'O')\n",
      "('difficult', 'JJ', u'O')\n",
      "('times', 'NNS', u'O')\n",
      "('left', 'VBD', u'O')\n",
      "('a', 'DT', u'O')\n",
      "('lasting', 'JJ', u'O')\n",
      "('impression', 'NN', u'O')\n",
      "('on', 'IN', u'O')\n",
      "('Warren', 'NNP', u'B-PERSON')\n",
      "('Buffett', 'NNP', u'I-PERSON')\n",
      "(',', ',', u'O')\n",
      "('and', 'CC', u'O')\n",
      "('fueled', 'VBD', u'O')\n",
      "('his', 'PRP$', u'O')\n",
      "('desire', 'NN', u'O')\n",
      "('for', 'IN', u'O')\n",
      "('the', 'DT', u'O')\n",
      "('kind', 'NN', u'O')\n",
      "('of', 'IN', u'O')\n",
      "('security', 'NN', u'O')\n",
      "('and', 'CC', u'O')\n",
      "('stability', 'NN', u'O')\n",
      "('that', 'IN', u'O')\n",
      "('money', 'NN', u'O')\n",
      "('can', 'MD', u'O')\n",
      "('buy', 'VB', u'O')\n",
      "('.', '.', u'O')\n"
     ]
    }
   ],
   "source": [
    "for i in l:\n",
    "    for j in i:\n",
    "        print j"
   ]
  },
  {
   "cell_type": "markdown",
   "metadata": {},
   "source": [
    "### Whenever you encounter NER as person, add it to the df as well as add associated(near by) verb(main verb) to the df\n",
    ">So it should look like<br>\n",
    "Subject Col | Verb Col | Target Col<br>\n",
    "Person      | learned  | 1<br>\n",
    "..."
   ]
  },
  {
   "cell_type": "markdown",
   "metadata": {},
   "source": []
  },
  {
   "cell_type": "markdown",
   "metadata": {},
   "source": []
  }
 ],
 "metadata": {
  "kernelspec": {
   "display_name": "Python 2",
   "language": "python",
   "name": "python2"
  },
  "language_info": {
   "codemirror_mode": {
    "name": "ipython",
    "version": 2
   },
   "file_extension": ".py",
   "mimetype": "text/x-python",
   "name": "python",
   "nbconvert_exporter": "python",
   "pygments_lexer": "ipython2",
   "version": "2.7.12"
  }
 },
 "nbformat": 4,
 "nbformat_minor": 2
}
